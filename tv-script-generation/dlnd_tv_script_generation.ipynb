{
 "cells": [
  {
   "cell_type": "markdown",
   "metadata": {
    "deletable": true,
    "editable": true
   },
   "source": [
    "# TV Script Generation\n",
    "In this project, you'll generate your own [Simpsons](https://en.wikipedia.org/wiki/The_Simpsons) TV scripts using RNNs.  You'll be using part of the [Simpsons dataset](https://www.kaggle.com/wcukierski/the-simpsons-by-the-data) of scripts from 27 seasons.  The Neural Network you'll build will generate a new TV script for a scene at [Moe's Tavern](https://simpsonswiki.com/wiki/Moe's_Tavern).\n",
    "## Get the Data\n",
    "The data is already provided for you.  You'll be using a subset of the original dataset.  It consists of only the scenes in Moe's Tavern.  This doesn't include other versions of the tavern, like \"Moe's Cavern\", \"Flaming Moe's\", \"Uncle Moe's Family Feed-Bag\", etc.."
   ]
  },
  {
   "cell_type": "code",
   "execution_count": 1,
   "metadata": {
    "collapsed": false,
    "deletable": true,
    "editable": true
   },
   "outputs": [],
   "source": [
    "\"\"\"\n",
    "DON'T MODIFY ANYTHING IN THIS CELL\n",
    "\"\"\"\n",
    "import helper\n",
    "\n",
    "data_dir = './data/simpsons/moes_tavern_lines.txt'\n",
    "text = helper.load_data(data_dir)\n",
    "# Ignore notice, since we don't use it for analysing the data\n",
    "text = text[81:]"
   ]
  },
  {
   "cell_type": "markdown",
   "metadata": {
    "deletable": true,
    "editable": true
   },
   "source": [
    "## Explore the Data\n",
    "Play around with `view_sentence_range` to view different parts of the data."
   ]
  },
  {
   "cell_type": "code",
   "execution_count": 2,
   "metadata": {
    "collapsed": false,
    "deletable": true,
    "editable": true
   },
   "outputs": [
    {
     "name": "stdout",
     "output_type": "stream",
     "text": [
      "Dataset Stats\n",
      "Roughly the number of unique words: 11492\n",
      "Number of scenes: 262\n",
      "Average number of sentences in each scene: 15.248091603053435\n",
      "Number of lines: 4257\n",
      "Average number of words in each line: 11.50434578341555\n",
      "\n",
      "The sentences 0 to 10:\n",
      "Moe_Szyslak: (INTO PHONE) Moe's Tavern. Where the elite meet to drink.\n",
      "Bart_Simpson: Eh, yeah, hello, is Mike there? Last name, Rotch.\n",
      "Moe_Szyslak: (INTO PHONE) Hold on, I'll check. (TO BARFLIES) Mike Rotch. Mike Rotch. Hey, has anybody seen Mike Rotch, lately?\n",
      "Moe_Szyslak: (INTO PHONE) Listen you little puke. One of these days I'm gonna catch you, and I'm gonna carve my name on your back with an ice pick.\n",
      "Moe_Szyslak: What's the matter Homer? You're not your normal effervescent self.\n",
      "Homer_Simpson: I got my problems, Moe. Give me another one.\n",
      "Moe_Szyslak: Homer, hey, you should not drink to forget your problems.\n",
      "Barney_Gumble: Yeah, you should only drink to enhance your social skills.\n",
      "\n",
      "\n"
     ]
    }
   ],
   "source": [
    "view_sentence_range = (0, 10)\n",
    "\"\"\"\n",
    "DON'T MODIFY ANYTHING IN THIS CELL\n",
    "\"\"\"\n",
    "import numpy as np\n",
    "\n",
    "print('Dataset Stats')\n",
    "print('Roughly the number of unique words: {}'.format(\n",
    "    len({word: None\n",
    "         for word in text.split()})))\n",
    "scenes = text.split('\\n\\n')\n",
    "print('Number of scenes: {}'.format(len(scenes)))\n",
    "sentence_count_scene = [scene.count('\\n') for scene in scenes]\n",
    "print('Average number of sentences in each scene: {}'.format(\n",
    "    np.average(sentence_count_scene)))\n",
    "\n",
    "sentences = [sentence for scene in scenes for sentence in scene.split('\\n')]\n",
    "print('Number of lines: {}'.format(len(sentences)))\n",
    "word_count_sentence = [len(sentence.split()) for sentence in sentences]\n",
    "print('Average number of words in each line: {}'.format(\n",
    "    np.average(word_count_sentence)))\n",
    "\n",
    "print()\n",
    "print('The sentences {} to {}:'.format(*view_sentence_range))\n",
    "print(\n",
    "    '\\n'.join(text.split('\\n')[view_sentence_range[0]:view_sentence_range[1]]))"
   ]
  },
  {
   "cell_type": "markdown",
   "metadata": {
    "deletable": true,
    "editable": true
   },
   "source": [
    "## Implement Preprocessing Functions\n",
    "The first thing to do to any dataset is preprocessing.  Implement the following preprocessing functions below:\n",
    "- Lookup Table\n",
    "- Tokenize Punctuation\n",
    "\n",
    "### Lookup Table\n",
    "To create a word embedding, you first need to transform the words to ids.  In this function, create two dictionaries:\n",
    "- Dictionary to go from the words to an id, we'll call `vocab_to_int`\n",
    "- Dictionary to go from the id to word, we'll call `int_to_vocab`\n",
    "\n",
    "Return these dictionaries in the following tuple `(vocab_to_int, int_to_vocab)`"
   ]
  },
  {
   "cell_type": "code",
   "execution_count": 3,
   "metadata": {
    "collapsed": false,
    "deletable": true,
    "editable": true
   },
   "outputs": [
    {
     "name": "stdout",
     "output_type": "stream",
     "text": [
      "Tests Passed\n"
     ]
    }
   ],
   "source": [
    "import numpy as np\n",
    "import problem_unittests as tests\n",
    "from collections import Counter\n",
    "\n",
    "\n",
    "def create_lookup_tables(text):\n",
    "    \"\"\"\n",
    "    Create lookup tables for vocabulary\n",
    "    :param text: The text of tv scripts split into words\n",
    "    :return: A tuple of dicts (vocab_to_int, int_to_vocab)\n",
    "    \"\"\"\n",
    "    counts = Counter(text)\n",
    "    vocab = sorted(counts, key=counts.get, reverse=True)\n",
    "    vocab_to_int = {word: idx for idx, word in enumerate(vocab, 1)}\n",
    "    int_to_vocab = {idx: word for idx, word in enumerate(vocab, 1)}\n",
    "\n",
    "    return (vocab_to_int, int_to_vocab)\n",
    "\n",
    "\n",
    "\"\"\"\n",
    "DON'T MODIFY ANYTHING IN THIS CELL THAT IS BELOW THIS LINE\n",
    "\"\"\"\n",
    "tests.test_create_lookup_tables(create_lookup_tables)"
   ]
  },
  {
   "cell_type": "markdown",
   "metadata": {
    "deletable": true,
    "editable": true
   },
   "source": [
    "### Tokenize Punctuation\n",
    "We'll be splitting the script into a word array using spaces as delimiters.  However, punctuations like periods and exclamation marks make it hard for the neural network to distinguish between the word \"bye\" and \"bye!\".\n",
    "\n",
    "Implement the function `token_lookup` to return a dict that will be used to tokenize symbols like \"!\" into \"||Exclamation_Mark||\".  Create a dictionary for the following symbols where the symbol is the key and value is the token:\n",
    "- Period ( . )\n",
    "- Comma ( , )\n",
    "- Quotation Mark ( \" )\n",
    "- Semicolon ( ; )\n",
    "- Exclamation mark ( ! )\n",
    "- Question mark ( ? )\n",
    "- Left Parentheses ( ( )\n",
    "- Right Parentheses ( ) )\n",
    "- Dash ( -- )\n",
    "- Return ( \\n )\n",
    "\n",
    "This dictionary will be used to token the symbols and add the delimiter (space) around it.  This separates the symbols as it's own word, making it easier for the neural network to predict on the next word. Make sure you don't use a token that could be confused as a word. Instead of using the token \"dash\", try using something like \"||dash||\"."
   ]
  },
  {
   "cell_type": "code",
   "execution_count": 4,
   "metadata": {
    "collapsed": false,
    "deletable": true,
    "editable": true
   },
   "outputs": [
    {
     "name": "stdout",
     "output_type": "stream",
     "text": [
      "Tests Passed\n"
     ]
    }
   ],
   "source": [
    "def token_lookup():\n",
    "    \"\"\"\n",
    "    Generate a dict to turn punctuation into a token.\n",
    "    :return: Tokenize dictionary where the key is the punctuation and the value is the token\n",
    "    \"\"\"\n",
    "    # TODO: Implement Function\n",
    "    token_dict = {\n",
    "        '.': '||Period||',\n",
    "        ',': '||Comma||',\n",
    "        '\"': '||Quotation_Mark||',\n",
    "        ';': '||Semicolon||',\n",
    "        '!': '||Exclamation_mark||',\n",
    "        '?': '||Question_mark||',\n",
    "        '(': '||Left_Parentheses||',\n",
    "        ')': '||Right_Parentheses||',\n",
    "        '--': '||Dash||',\n",
    "        '\\n': '||Return||'\n",
    "    }\n",
    "    return token_dict\n",
    "\n",
    "\n",
    "\"\"\"\n",
    "DON'T MODIFY ANYTHING IN THIS CELL THAT IS BELOW THIS LINE\n",
    "\"\"\"\n",
    "tests.test_tokenize(token_lookup)"
   ]
  },
  {
   "cell_type": "markdown",
   "metadata": {
    "deletable": true,
    "editable": true
   },
   "source": [
    "## Preprocess all the data and save it\n",
    "Running the code cell below will preprocess all the data and save it to file."
   ]
  },
  {
   "cell_type": "code",
   "execution_count": 5,
   "metadata": {
    "collapsed": false,
    "deletable": true,
    "editable": true
   },
   "outputs": [],
   "source": [
    "\"\"\"\n",
    "DON'T MODIFY ANYTHING IN THIS CELL\n",
    "\"\"\"\n",
    "# Preprocess Training, Validation, and Testing Data\n",
    "helper.preprocess_and_save_data(data_dir, token_lookup, create_lookup_tables)"
   ]
  },
  {
   "cell_type": "markdown",
   "metadata": {
    "deletable": true,
    "editable": true
   },
   "source": [
    "# Check Point\n",
    "This is your first checkpoint. If you ever decide to come back to this notebook or have to restart the notebook, you can start from here. The preprocessed data has been saved to disk."
   ]
  },
  {
   "cell_type": "code",
   "execution_count": 6,
   "metadata": {
    "collapsed": false,
    "deletable": true,
    "editable": true
   },
   "outputs": [],
   "source": [
    "\"\"\"\n",
    "DON'T MODIFY ANYTHING IN THIS CELL\n",
    "\"\"\"\n",
    "import helper\n",
    "import numpy as np\n",
    "import problem_unittests as tests\n",
    "\n",
    "int_text, vocab_to_int, int_to_vocab, token_dict = helper.load_preprocess()"
   ]
  },
  {
   "cell_type": "markdown",
   "metadata": {
    "deletable": true,
    "editable": true
   },
   "source": [
    "## Build the Neural Network\n",
    "You'll build the components necessary to build a RNN by implementing the following functions below:\n",
    "- get_inputs\n",
    "- get_init_cell\n",
    "- get_embed\n",
    "- build_rnn\n",
    "- build_nn\n",
    "- get_batches\n",
    "\n",
    "### Check the Version of TensorFlow and Access to GPU"
   ]
  },
  {
   "cell_type": "code",
   "execution_count": 7,
   "metadata": {
    "collapsed": false,
    "deletable": true,
    "editable": true
   },
   "outputs": [
    {
     "name": "stdout",
     "output_type": "stream",
     "text": [
      "TensorFlow Version: 1.0.1\n",
      "Default GPU Device: /gpu:0\n"
     ]
    }
   ],
   "source": [
    "\"\"\"\n",
    "DON'T MODIFY ANYTHING IN THIS CELL\n",
    "\"\"\"\n",
    "from distutils.version import LooseVersion\n",
    "import warnings\n",
    "import tensorflow as tf\n",
    "\n",
    "# Check TensorFlow Version\n",
    "assert LooseVersion(tf.__version__) >= LooseVersion('1.0'), 'Please use TensorFlow version 1.0 or newer'\n",
    "print('TensorFlow Version: {}'.format(tf.__version__))\n",
    "\n",
    "# Check for a GPU\n",
    "if not tf.test.gpu_device_name():\n",
    "    warnings.warn('No GPU found. Please use a GPU to train your neural network.')\n",
    "else:\n",
    "    print('Default GPU Device: {}'.format(tf.test.gpu_device_name()))"
   ]
  },
  {
   "cell_type": "markdown",
   "metadata": {
    "deletable": true,
    "editable": true
   },
   "source": [
    "### Input\n",
    "Implement the `get_inputs()` function to create TF Placeholders for the Neural Network.  It should create the following placeholders:\n",
    "- Input text placeholder named \"input\" using the [TF Placeholder](https://www.tensorflow.org/api_docs/python/tf/placeholder) `name` parameter.\n",
    "- Targets placeholder\n",
    "- Learning Rate placeholder\n",
    "\n",
    "Return the placeholders in the following the tuple `(Input, Targets, LearingRate)`"
   ]
  },
  {
   "cell_type": "code",
   "execution_count": 8,
   "metadata": {
    "collapsed": false,
    "deletable": true,
    "editable": true
   },
   "outputs": [
    {
     "name": "stdout",
     "output_type": "stream",
     "text": [
      "Tests Passed\n"
     ]
    }
   ],
   "source": [
    "def get_inputs():\n",
    "    \"\"\"\n",
    "    Create TF Placeholders for input, targets, and learning rate.\n",
    "    :return: Tuple (input, targets, learning rate)\n",
    "    \"\"\"\n",
    "    inputs = tf.placeholder(tf.int32, [None, None], name='input')\n",
    "    targets = tf.placeholder(tf.int32, [None, None], name='labels')\n",
    "    learning_rate = tf.placeholder(tf.float32, name='learning_rate')\n",
    "    return (inputs, targets, learning_rate)\n",
    "\n",
    "\n",
    "\"\"\"\n",
    "DON'T MODIFY ANYTHING IN THIS CELL THAT IS BELOW THIS LINE\n",
    "\"\"\"\n",
    "tests.test_get_inputs(get_inputs)"
   ]
  },
  {
   "cell_type": "markdown",
   "metadata": {
    "deletable": true,
    "editable": true
   },
   "source": [
    "### Build RNN Cell and Initialize\n",
    "Stack one or more [`BasicLSTMCells`](https://www.tensorflow.org/api_docs/python/tf/contrib/rnn/BasicLSTMCell) in a [`MultiRNNCell`](https://www.tensorflow.org/api_docs/python/tf/contrib/rnn/MultiRNNCell).\n",
    "- The Rnn size should be set using `rnn_size`\n",
    "- Initalize Cell State using the MultiRNNCell's [`zero_state()`](https://www.tensorflow.org/api_docs/python/tf/contrib/rnn/MultiRNNCell#zero_state) function\n",
    "    - Apply the name \"initial_state\" to the initial state using [`tf.identity()`](https://www.tensorflow.org/api_docs/python/tf/identity)\n",
    "\n",
    "Return the cell and initial state in the following tuple `(Cell, InitialState)`"
   ]
  },
  {
   "cell_type": "code",
   "execution_count": 9,
   "metadata": {
    "collapsed": false,
    "deletable": true,
    "editable": true
   },
   "outputs": [
    {
     "name": "stdout",
     "output_type": "stream",
     "text": [
      "Tests Passed\n"
     ]
    }
   ],
   "source": [
    "def get_init_cell(batch_size, rnn_size):\n",
    "    \"\"\"\n",
    "    Create an RNN Cell and initialize it.\n",
    "    :param batch_size: Size of batches\n",
    "    :param rnn_size: Size of RNNs\n",
    "    :return: Tuple (cell, initialize state)\n",
    "    \"\"\"\n",
    "    lstm_layers = 2\n",
    "    \n",
    "    lstm = tf.contrib.rnn.BasicLSTMCell(rnn_size)\n",
    "    #drop = tf.contrib.rnn.DropoutWrapper(lstm, output_keep_prob=0.5)\n",
    "    cell = tf.contrib.rnn.MultiRNNCell([lstm] * lstm_layers)\n",
    "    \n",
    "    initial_state = cell.zero_state(batch_size, tf.float32)\n",
    "    initial_state = tf.identity(initial_state, name='initial_state')\n",
    "    \n",
    "    return (cell, initial_state)\n",
    "\n",
    "\n",
    "\"\"\"\n",
    "DON'T MODIFY ANYTHING IN THIS CELL THAT IS BELOW THIS LINE\n",
    "\"\"\"\n",
    "tests.test_get_init_cell(get_init_cell)"
   ]
  },
  {
   "cell_type": "markdown",
   "metadata": {
    "deletable": true,
    "editable": true
   },
   "source": [
    "### Word Embedding\n",
    "Apply embedding to `input_data` using TensorFlow.  Return the embedded sequence."
   ]
  },
  {
   "cell_type": "code",
   "execution_count": 10,
   "metadata": {
    "collapsed": false,
    "deletable": true,
    "editable": true
   },
   "outputs": [
    {
     "name": "stdout",
     "output_type": "stream",
     "text": [
      "Tests Passed\n"
     ]
    }
   ],
   "source": [
    "def get_embed(input_data, vocab_size, embed_dim):\n",
    "    \"\"\"\n",
    "    Create embedding for <input_data>.\n",
    "    :param input_data: TF placeholder for text input.\n",
    "    :param vocab_size: Number of words in vocabulary.\n",
    "    :param embed_dim: Number of embedding dimensions\n",
    "    :return: Embedded input.\n",
    "    \"\"\"\n",
    "    #embedding = tf.Variable(\n",
    "    #    tf.truncated_normal((vocab_size, embed_dim), stddev=0.1))\n",
    "    embedding = tf.Variable(tf.random_uniform((vocab_size, embed_dim), -1, 1))\n",
    "    embed = tf.nn.embedding_lookup(embedding, input_data)\n",
    "\n",
    "    return embed\n",
    "\n",
    "\n",
    "\"\"\"\n",
    "DON'T MODIFY ANYTHING IN THIS CELL THAT IS BELOW THIS LINE\n",
    "\"\"\"\n",
    "tests.test_get_embed(get_embed)"
   ]
  },
  {
   "cell_type": "markdown",
   "metadata": {
    "deletable": true,
    "editable": true
   },
   "source": [
    "### Build RNN\n",
    "You created a RNN Cell in the `get_init_cell()` function.  Time to use the cell to create a RNN.\n",
    "- Build the RNN using the [`tf.nn.dynamic_rnn()`](https://www.tensorflow.org/api_docs/python/tf/nn/dynamic_rnn)\n",
    " - Apply the name \"final_state\" to the final state using [`tf.identity()`](https://www.tensorflow.org/api_docs/python/tf/identity)\n",
    "\n",
    "Return the outputs and final_state state in the following tuple `(Outputs, FinalState)` "
   ]
  },
  {
   "cell_type": "code",
   "execution_count": 11,
   "metadata": {
    "collapsed": false,
    "deletable": true,
    "editable": true
   },
   "outputs": [
    {
     "name": "stdout",
     "output_type": "stream",
     "text": [
      "Tests Passed\n"
     ]
    }
   ],
   "source": [
    "def build_rnn(cell, inputs):\n",
    "    \"\"\"\n",
    "    Create a RNN using a RNN Cell\n",
    "    :param cell: RNN Cell\n",
    "    :param inputs: Input text data\n",
    "    :return: Tuple (Outputs, Final State)\n",
    "    \"\"\"\n",
    "    outputs, final_state = tf.nn.dynamic_rnn(cell, inputs, dtype=tf.float32)\n",
    "    final_state = tf.identity(final_state, name='final_state')\n",
    "    return (outputs, final_state)\n",
    "\n",
    "\n",
    "\"\"\"\n",
    "DON'T MODIFY ANYTHING IN THIS CELL THAT IS BELOW THIS LINE\n",
    "\"\"\"\n",
    "tests.test_build_rnn(build_rnn)"
   ]
  },
  {
   "cell_type": "markdown",
   "metadata": {
    "deletable": true,
    "editable": true
   },
   "source": [
    "### Build the Neural Network\n",
    "Apply the functions you implemented above to:\n",
    "- Apply embedding to `input_data` using your `get_embed(input_data, vocab_size, embed_dim)` function.\n",
    "- Build RNN using `cell` and your `build_rnn(cell, inputs)` function.\n",
    "- Apply a fully connected layer with a linear activation and `vocab_size` as the number of outputs.\n",
    "\n",
    "Return the logits and final state in the following tuple (Logits, FinalState) "
   ]
  },
  {
   "cell_type": "code",
   "execution_count": 12,
   "metadata": {
    "collapsed": false,
    "deletable": true,
    "editable": true
   },
   "outputs": [
    {
     "name": "stdout",
     "output_type": "stream",
     "text": [
      "Tests Passed\n"
     ]
    }
   ],
   "source": [
    "def build_nn(cell, rnn_size, input_data, vocab_size, embed_dim):\n",
    "    \"\"\"\n",
    "    Build part of the neural network\n",
    "    :param cell: RNN cell\n",
    "    :param rnn_size: Size of rnns\n",
    "    :param input_data: Input data\n",
    "    :param vocab_size: Vocabulary size\n",
    "    :param embed_dim: Number of embedding dimensions\n",
    "    :return: Tuple (Logits, FinalState)\n",
    "    \"\"\"\n",
    "    # input to embed layer\n",
    "    embed = get_embed(input_data, vocab_size, embed_dim)\n",
    "\n",
    "    # embed vector to lstm layer\n",
    "    outputs, final_state = build_rnn(cell, embed)\n",
    "\n",
    "    # full connection layer (This is a regressioner, so no activation is required)\n",
    "    predictions = tf.contrib.layers.fully_connected(\n",
    "        inputs=outputs, num_outputs=vocab_size, activation_fn=None)\n",
    "\n",
    "    return (predictions, final_state)\n",
    "\n",
    "\n",
    "\"\"\"\n",
    "DON'T MODIFY ANYTHING IN THIS CELL THAT IS BELOW THIS LINE\n",
    "\"\"\"\n",
    "tests.test_build_nn(build_nn)"
   ]
  },
  {
   "cell_type": "markdown",
   "metadata": {
    "deletable": true,
    "editable": true
   },
   "source": [
    "### Batches\n",
    "Implement `get_batches` to create batches of input and targets using `int_text`.  The batches should be a Numpy array with the shape `(number of batches, 2, batch size, sequence length)`. Each batch contains two elements:\n",
    "- The first element is a single batch of **input** with the shape `[batch size, sequence length]`\n",
    "- The second element is a single batch of **targets** with the shape `[batch size, sequence length]`\n",
    "\n",
    "If you can't fill the last batch with enough data, drop the last batch.\n",
    "\n",
    "For exmple, `get_batches([1, 2, 3, 4, 5, 6, 7, 8, 9, 10, 11, 12, 13, 14, 15], 2, 3)` would return a Numpy array of the following:\n",
    "```\n",
    "[\n",
    "  # First Batch\n",
    "  [\n",
    "    # Batch of Input\n",
    "    [[ 1  2  3], [ 7  8  9]],\n",
    "    # Batch of targets\n",
    "    [[ 2  3  4], [ 8  9 10]]\n",
    "  ],\n",
    " \n",
    "  # Second Batch\n",
    "  [\n",
    "    # Batch of Input\n",
    "    [[ 4  5  6], [10 11 12]],\n",
    "    # Batch of targets\n",
    "    [[ 5  6  7], [11 12 13]]\n",
    "  ]\n",
    "]\n",
    "```"
   ]
  },
  {
   "cell_type": "code",
   "execution_count": 13,
   "metadata": {
    "collapsed": false,
    "deletable": true,
    "editable": true
   },
   "outputs": [
    {
     "name": "stdout",
     "output_type": "stream",
     "text": [
      "Tests Passed\n"
     ]
    }
   ],
   "source": [
    "def get_batches(int_text, batch_size, seq_length):\n",
    "    \"\"\"\n",
    "    Return batches of input and target\n",
    "    :param int_text: Text with the words replaced by their ids\n",
    "    :param batch_size: The size of batch\n",
    "    :param seq_length: The length of sequence\n",
    "    :return: Batches as a Numpy array\n",
    "    \"\"\"\n",
    "    n_batches = len(int_text) // (batch_size * seq_length)\n",
    "    int_text = np.array(int_text[:n_batches * batch_size * seq_length + 1])\n",
    "\n",
    "    inputs = int_text[:n_batches * batch_size * seq_length]\n",
    "    targets = int_text[1:n_batches * batch_size * seq_length + 1]\n",
    "    \n",
    "    inputs_ = inputs.reshape(batch_size, -1)\n",
    "    targets_ = targets.reshape(batch_size, -1)\n",
    "    \n",
    "    inputs__ = np.split(inputs_, n_batches, 1)\n",
    "    targets__ = np.split(targets_, n_batches, 1)\n",
    "    \n",
    "    return np.array(list(zip(inputs__, targets__)))\n",
    "\n",
    "\"\"\"\n",
    "DON'T MODIFY ANYTHING IN THIS CELL THAT IS BELOW THIS LINE\n",
    "\"\"\"\n",
    "tests.test_get_batches(get_batches)"
   ]
  },
  {
   "cell_type": "markdown",
   "metadata": {
    "deletable": true,
    "editable": true
   },
   "source": [
    "## Neural Network Training\n",
    "### Hyperparameters\n",
    "Tune the following parameters:\n",
    "\n",
    "- Set `num_epochs` to the number of epochs.\n",
    "- Set `batch_size` to the batch size.\n",
    "- Set `rnn_size` to the size of the RNNs.\n",
    "- Set `embed_dim` to the size of the embedding.\n",
    "- Set `seq_length` to the length of sequence.\n",
    "- Set `learning_rate` to the learning rate.\n",
    "- Set `show_every_n_batches` to the number of batches the neural network should print progress."
   ]
  },
  {
   "cell_type": "code",
   "execution_count": 14,
   "metadata": {
    "collapsed": true,
    "deletable": true,
    "editable": true
   },
   "outputs": [],
   "source": [
    "# Number of Epochs\n",
    "num_epochs = 300\n",
    "# Batch Size\n",
    "batch_size = 128\n",
    "# RNN Size\n",
    "rnn_size = 256\n",
    "# Embedding Dimension Size\n",
    "embed_dim = 300\n",
    "# Sequence Length\n",
    "seq_length = 20\n",
    "# Learning Rate\n",
    "learning_rate = 0.001\n",
    "# Show stats for every n number of batches\n",
    "show_every_n_batches = 20\n",
    "\n",
    "\"\"\"\n",
    "DON'T MODIFY ANYTHING IN THIS CELL THAT IS BELOW THIS LINE\n",
    "\"\"\"\n",
    "save_dir = './save'"
   ]
  },
  {
   "cell_type": "markdown",
   "metadata": {
    "deletable": true,
    "editable": true
   },
   "source": [
    "### Build the Graph\n",
    "Build the graph using the neural network you implemented."
   ]
  },
  {
   "cell_type": "code",
   "execution_count": 15,
   "metadata": {
    "collapsed": false,
    "deletable": true,
    "editable": true
   },
   "outputs": [],
   "source": [
    "\"\"\"\n",
    "DON'T MODIFY ANYTHING IN THIS CELL\n",
    "\"\"\"\n",
    "from tensorflow.contrib import seq2seq\n",
    "\n",
    "train_graph = tf.Graph()\n",
    "with train_graph.as_default():\n",
    "    vocab_size = len(int_to_vocab)\n",
    "    input_text, targets, lr = get_inputs()\n",
    "    input_data_shape = tf.shape(input_text)\n",
    "    cell, initial_state = get_init_cell(input_data_shape[0], rnn_size)\n",
    "    logits, final_state = build_nn(cell, rnn_size, input_text, vocab_size, embed_dim)\n",
    "\n",
    "    # Probabilities for generating words\n",
    "    probs = tf.nn.softmax(logits, name='probs')\n",
    "\n",
    "    # Loss function\n",
    "    cost = seq2seq.sequence_loss(\n",
    "        logits,\n",
    "        targets,\n",
    "        tf.ones([input_data_shape[0], input_data_shape[1]]))\n",
    "\n",
    "    # Optimizer\n",
    "    optimizer = tf.train.AdamOptimizer(lr)\n",
    "\n",
    "    # Gradient Clipping\n",
    "    gradients = optimizer.compute_gradients(cost)\n",
    "    capped_gradients = [(tf.clip_by_value(grad, -1., 1.), var) for grad, var in gradients]\n",
    "    train_op = optimizer.apply_gradients(capped_gradients)"
   ]
  },
  {
   "cell_type": "markdown",
   "metadata": {
    "deletable": true,
    "editable": true
   },
   "source": [
    "## Train\n",
    "Train the neural network on the preprocessed data.  If you have a hard time getting a good loss, check the [forms](https://discussions.udacity.com/) to see if anyone is having the same problem."
   ]
  },
  {
   "cell_type": "code",
   "execution_count": 16,
   "metadata": {
    "collapsed": false,
    "deletable": true,
    "editable": true,
    "scrolled": true
   },
   "outputs": [
    {
     "name": "stdout",
     "output_type": "stream",
     "text": [
      "Epoch   0 Batch    0/26   train_loss = 8.823\n",
      "Epoch   0 Batch   20/26   train_loss = 6.300\n",
      "Epoch   1 Batch   14/26   train_loss = 5.993\n",
      "Epoch   2 Batch    8/26   train_loss = 6.030\n",
      "Epoch   3 Batch    2/26   train_loss = 6.015\n",
      "Epoch   3 Batch   22/26   train_loss = 6.007\n",
      "Epoch   4 Batch   16/26   train_loss = 6.015\n",
      "Epoch   5 Batch   10/26   train_loss = 5.991\n",
      "Epoch   6 Batch    4/26   train_loss = 5.988\n",
      "Epoch   6 Batch   24/26   train_loss = 6.031\n",
      "Epoch   7 Batch   18/26   train_loss = 5.995\n",
      "Epoch   8 Batch   12/26   train_loss = 6.132\n",
      "Epoch   9 Batch    6/26   train_loss = 6.044\n",
      "Epoch  10 Batch    0/26   train_loss = 5.930\n",
      "Epoch  10 Batch   20/26   train_loss = 6.000\n",
      "Epoch  11 Batch   14/26   train_loss = 5.916\n",
      "Epoch  12 Batch    8/26   train_loss = 5.944\n",
      "Epoch  13 Batch    2/26   train_loss = 5.947\n",
      "Epoch  13 Batch   22/26   train_loss = 5.956\n",
      "Epoch  14 Batch   16/26   train_loss = 5.979\n",
      "Epoch  15 Batch   10/26   train_loss = 5.951\n",
      "Epoch  16 Batch    4/26   train_loss = 5.935\n",
      "Epoch  16 Batch   24/26   train_loss = 5.962\n",
      "Epoch  17 Batch   18/26   train_loss = 5.908\n",
      "Epoch  18 Batch   12/26   train_loss = 6.030\n",
      "Epoch  19 Batch    6/26   train_loss = 5.911\n",
      "Epoch  20 Batch    0/26   train_loss = 5.774\n",
      "Epoch  20 Batch   20/26   train_loss = 5.818\n",
      "Epoch  21 Batch   14/26   train_loss = 5.704\n",
      "Epoch  22 Batch    8/26   train_loss = 5.704\n",
      "Epoch  23 Batch    2/26   train_loss = 5.670\n",
      "Epoch  23 Batch   22/26   train_loss = 5.640\n",
      "Epoch  24 Batch   16/26   train_loss = 5.657\n",
      "Epoch  25 Batch   10/26   train_loss = 5.589\n",
      "Epoch  26 Batch    4/26   train_loss = 5.552\n",
      "Epoch  26 Batch   24/26   train_loss = 5.576\n",
      "Epoch  27 Batch   18/26   train_loss = 5.520\n",
      "Epoch  28 Batch   12/26   train_loss = 5.648\n",
      "Epoch  29 Batch    6/26   train_loss = 5.501\n",
      "Epoch  30 Batch    0/26   train_loss = 5.364\n",
      "Epoch  30 Batch   20/26   train_loss = 5.387\n",
      "Epoch  31 Batch   14/26   train_loss = 5.276\n",
      "Epoch  32 Batch    8/26   train_loss = 5.244\n",
      "Epoch  33 Batch    2/26   train_loss = 5.233\n",
      "Epoch  33 Batch   22/26   train_loss = 5.185\n",
      "Epoch  34 Batch   16/26   train_loss = 5.220\n",
      "Epoch  35 Batch   10/26   train_loss = 5.131\n",
      "Epoch  36 Batch    4/26   train_loss = 5.075\n",
      "Epoch  36 Batch   24/26   train_loss = 5.101\n",
      "Epoch  37 Batch   18/26   train_loss = 5.022\n",
      "Epoch  38 Batch   12/26   train_loss = 5.163\n",
      "Epoch  39 Batch    6/26   train_loss = 5.014\n",
      "Epoch  40 Batch    0/26   train_loss = 4.863\n",
      "Epoch  40 Batch   20/26   train_loss = 4.866\n",
      "Epoch  41 Batch   14/26   train_loss = 4.770\n",
      "Epoch  42 Batch    8/26   train_loss = 4.743\n",
      "Epoch  43 Batch    2/26   train_loss = 4.736\n",
      "Epoch  43 Batch   22/26   train_loss = 4.678\n",
      "Epoch  44 Batch   16/26   train_loss = 4.726\n",
      "Epoch  45 Batch   10/26   train_loss = 4.643\n",
      "Epoch  46 Batch    4/26   train_loss = 4.596\n",
      "Epoch  46 Batch   24/26   train_loss = 4.604\n",
      "Epoch  47 Batch   18/26   train_loss = 4.561\n",
      "Epoch  48 Batch   12/26   train_loss = 4.711\n",
      "Epoch  49 Batch    6/26   train_loss = 4.582\n",
      "Epoch  50 Batch    0/26   train_loss = 4.438\n",
      "Epoch  50 Batch   20/26   train_loss = 4.427\n",
      "Epoch  51 Batch   14/26   train_loss = 4.352\n",
      "Epoch  52 Batch    8/26   train_loss = 4.343\n",
      "Epoch  53 Batch    2/26   train_loss = 4.363\n",
      "Epoch  53 Batch   22/26   train_loss = 4.290\n",
      "Epoch  54 Batch   16/26   train_loss = 4.367\n",
      "Epoch  55 Batch   10/26   train_loss = 4.272\n",
      "Epoch  56 Batch    4/26   train_loss = 4.250\n",
      "Epoch  56 Batch   24/26   train_loss = 4.229\n",
      "Epoch  57 Batch   18/26   train_loss = 4.206\n",
      "Epoch  58 Batch   12/26   train_loss = 4.359\n",
      "Epoch  59 Batch    6/26   train_loss = 4.234\n",
      "Epoch  60 Batch    0/26   train_loss = 4.113\n",
      "Epoch  60 Batch   20/26   train_loss = 4.127\n",
      "Epoch  61 Batch   14/26   train_loss = 4.096\n",
      "Epoch  62 Batch    8/26   train_loss = 4.061\n",
      "Epoch  63 Batch    2/26   train_loss = 4.045\n",
      "Epoch  63 Batch   22/26   train_loss = 3.961\n",
      "Epoch  64 Batch   16/26   train_loss = 4.048\n",
      "Epoch  65 Batch   10/26   train_loss = 3.961\n",
      "Epoch  66 Batch    4/26   train_loss = 3.959\n",
      "Epoch  66 Batch   24/26   train_loss = 3.920\n",
      "Epoch  67 Batch   18/26   train_loss = 3.918\n",
      "Epoch  68 Batch   12/26   train_loss = 4.035\n",
      "Epoch  69 Batch    6/26   train_loss = 3.929\n",
      "Epoch  70 Batch    0/26   train_loss = 3.823\n",
      "Epoch  70 Batch   20/26   train_loss = 3.807\n",
      "Epoch  71 Batch   14/26   train_loss = 3.763\n",
      "Epoch  72 Batch    8/26   train_loss = 3.739\n",
      "Epoch  73 Batch    2/26   train_loss = 3.744\n",
      "Epoch  73 Batch   22/26   train_loss = 3.668\n",
      "Epoch  74 Batch   16/26   train_loss = 3.766\n",
      "Epoch  75 Batch   10/26   train_loss = 3.696\n",
      "Epoch  76 Batch    4/26   train_loss = 3.718\n",
      "Epoch  76 Batch   24/26   train_loss = 3.665\n",
      "Epoch  77 Batch   18/26   train_loss = 3.643\n",
      "Epoch  78 Batch   12/26   train_loss = 3.749\n",
      "Epoch  79 Batch    6/26   train_loss = 3.627\n",
      "Epoch  80 Batch    0/26   train_loss = 3.534\n",
      "Epoch  80 Batch   20/26   train_loss = 3.506\n",
      "Epoch  81 Batch   14/26   train_loss = 3.436\n",
      "Epoch  82 Batch    8/26   train_loss = 3.449\n",
      "Epoch  83 Batch    2/26   train_loss = 3.454\n",
      "Epoch  83 Batch   22/26   train_loss = 3.392\n",
      "Epoch  84 Batch   16/26   train_loss = 3.461\n",
      "Epoch  85 Batch   10/26   train_loss = 3.402\n",
      "Epoch  86 Batch    4/26   train_loss = 3.396\n",
      "Epoch  86 Batch   24/26   train_loss = 3.314\n",
      "Epoch  87 Batch   18/26   train_loss = 3.356\n",
      "Epoch  88 Batch   12/26   train_loss = 3.446\n",
      "Epoch  89 Batch    6/26   train_loss = 3.320\n",
      "Epoch  90 Batch    0/26   train_loss = 3.260\n",
      "Epoch  90 Batch   20/26   train_loss = 3.248\n",
      "Epoch  91 Batch   14/26   train_loss = 3.218\n",
      "Epoch  92 Batch    8/26   train_loss = 3.208\n",
      "Epoch  93 Batch    2/26   train_loss = 3.203\n",
      "Epoch  93 Batch   22/26   train_loss = 3.138\n",
      "Epoch  94 Batch   16/26   train_loss = 3.191\n",
      "Epoch  95 Batch   10/26   train_loss = 3.133\n",
      "Epoch  96 Batch    4/26   train_loss = 3.131\n",
      "Epoch  96 Batch   24/26   train_loss = 3.026\n",
      "Epoch  97 Batch   18/26   train_loss = 3.055\n",
      "Epoch  98 Batch   12/26   train_loss = 3.132\n",
      "Epoch  99 Batch    6/26   train_loss = 3.026\n",
      "Epoch 100 Batch    0/26   train_loss = 2.974\n",
      "Epoch 100 Batch   20/26   train_loss = 2.919\n",
      "Epoch 101 Batch   14/26   train_loss = 2.935\n",
      "Epoch 102 Batch    8/26   train_loss = 2.922\n",
      "Epoch 103 Batch    2/26   train_loss = 2.920\n",
      "Epoch 103 Batch   22/26   train_loss = 2.973\n",
      "Epoch 104 Batch   16/26   train_loss = 3.082\n",
      "Epoch 105 Batch   10/26   train_loss = 2.922\n",
      "Epoch 106 Batch    4/26   train_loss = 2.866\n",
      "Epoch 106 Batch   24/26   train_loss = 2.764\n",
      "Epoch 107 Batch   18/26   train_loss = 2.753\n",
      "Epoch 108 Batch   12/26   train_loss = 2.810\n",
      "Epoch 109 Batch    6/26   train_loss = 2.728\n",
      "Epoch 110 Batch    0/26   train_loss = 2.667\n",
      "Epoch 110 Batch   20/26   train_loss = 2.638\n",
      "Epoch 111 Batch   14/26   train_loss = 2.632\n",
      "Epoch 112 Batch    8/26   train_loss = 2.681\n",
      "Epoch 113 Batch    2/26   train_loss = 2.622\n",
      "Epoch 113 Batch   22/26   train_loss = 2.599\n",
      "Epoch 114 Batch   16/26   train_loss = 2.689\n",
      "Epoch 115 Batch   10/26   train_loss = 2.657\n",
      "Epoch 116 Batch    4/26   train_loss = 2.652\n",
      "Epoch 116 Batch   24/26   train_loss = 2.519\n",
      "Epoch 117 Batch   18/26   train_loss = 2.518\n",
      "Epoch 118 Batch   12/26   train_loss = 2.555\n",
      "Epoch 119 Batch    6/26   train_loss = 2.471\n",
      "Epoch 120 Batch    0/26   train_loss = 2.458\n",
      "Epoch 120 Batch   20/26   train_loss = 2.365\n",
      "Epoch 121 Batch   14/26   train_loss = 2.379\n",
      "Epoch 122 Batch    8/26   train_loss = 2.396\n",
      "Epoch 123 Batch    2/26   train_loss = 2.373\n",
      "Epoch 123 Batch   22/26   train_loss = 2.343\n",
      "Epoch 124 Batch   16/26   train_loss = 2.415\n",
      "Epoch 125 Batch   10/26   train_loss = 2.368\n",
      "Epoch 126 Batch    4/26   train_loss = 2.411\n",
      "Epoch 126 Batch   24/26   train_loss = 2.343\n",
      "Epoch 127 Batch   18/26   train_loss = 2.293\n",
      "Epoch 128 Batch   12/26   train_loss = 2.332\n",
      "Epoch 129 Batch    6/26   train_loss = 2.265\n",
      "Epoch 130 Batch    0/26   train_loss = 2.243\n",
      "Epoch 130 Batch   20/26   train_loss = 2.147\n",
      "Epoch 131 Batch   14/26   train_loss = 2.177\n",
      "Epoch 132 Batch    8/26   train_loss = 2.217\n",
      "Epoch 133 Batch    2/26   train_loss = 2.223\n",
      "Epoch 133 Batch   22/26   train_loss = 2.149\n",
      "Epoch 134 Batch   16/26   train_loss = 2.187\n",
      "Epoch 135 Batch   10/26   train_loss = 2.141\n",
      "Epoch 136 Batch    4/26   train_loss = 2.199\n",
      "Epoch 136 Batch   24/26   train_loss = 2.055\n",
      "Epoch 137 Batch   18/26   train_loss = 2.054\n",
      "Epoch 138 Batch   12/26   train_loss = 2.081\n",
      "Epoch 139 Batch    6/26   train_loss = 2.035\n",
      "Epoch 140 Batch    0/26   train_loss = 2.043\n",
      "Epoch 140 Batch   20/26   train_loss = 1.982\n",
      "Epoch 141 Batch   14/26   train_loss = 1.971\n",
      "Epoch 142 Batch    8/26   train_loss = 2.029\n",
      "Epoch 143 Batch    2/26   train_loss = 2.003\n",
      "Epoch 143 Batch   22/26   train_loss = 1.970\n",
      "Epoch 144 Batch   16/26   train_loss = 2.009\n",
      "Epoch 145 Batch   10/26   train_loss = 1.985\n",
      "Epoch 146 Batch    4/26   train_loss = 2.044\n",
      "Epoch 146 Batch   24/26   train_loss = 1.914\n",
      "Epoch 147 Batch   18/26   train_loss = 1.869\n",
      "Epoch 148 Batch   12/26   train_loss = 1.929\n",
      "Epoch 149 Batch    6/26   train_loss = 1.854\n",
      "Epoch 150 Batch    0/26   train_loss = 1.890\n",
      "Epoch 150 Batch   20/26   train_loss = 1.772\n",
      "Epoch 151 Batch   14/26   train_loss = 1.790\n",
      "Epoch 152 Batch    8/26   train_loss = 1.834\n",
      "Epoch 153 Batch    2/26   train_loss = 1.777\n",
      "Epoch 153 Batch   22/26   train_loss = 1.726\n",
      "Epoch 154 Batch   16/26   train_loss = 1.810\n",
      "Epoch 155 Batch   10/26   train_loss = 1.796\n",
      "Epoch 156 Batch    4/26   train_loss = 1.795\n",
      "Epoch 156 Batch   24/26   train_loss = 1.689\n",
      "Epoch 157 Batch   18/26   train_loss = 1.678\n",
      "Epoch 158 Batch   12/26   train_loss = 1.699\n",
      "Epoch 159 Batch    6/26   train_loss = 1.642\n",
      "Epoch 160 Batch    0/26   train_loss = 1.660\n",
      "Epoch 160 Batch   20/26   train_loss = 1.584\n",
      "Epoch 161 Batch   14/26   train_loss = 1.609\n",
      "Epoch 162 Batch    8/26   train_loss = 1.603\n",
      "Epoch 163 Batch    2/26   train_loss = 1.584\n",
      "Epoch 163 Batch   22/26   train_loss = 1.504\n",
      "Epoch 164 Batch   16/26   train_loss = 1.640\n",
      "Epoch 165 Batch   10/26   train_loss = 1.566\n",
      "Epoch 166 Batch    4/26   train_loss = 1.577\n",
      "Epoch 166 Batch   24/26   train_loss = 1.463\n",
      "Epoch 167 Batch   18/26   train_loss = 1.471\n",
      "Epoch 168 Batch   12/26   train_loss = 1.463\n",
      "Epoch 169 Batch    6/26   train_loss = 1.438\n",
      "Epoch 170 Batch    0/26   train_loss = 1.429\n",
      "Epoch 170 Batch   20/26   train_loss = 1.401\n",
      "Epoch 171 Batch   14/26   train_loss = 1.410\n",
      "Epoch 172 Batch    8/26   train_loss = 1.415\n",
      "Epoch 173 Batch    2/26   train_loss = 1.411\n",
      "Epoch 173 Batch   22/26   train_loss = 1.339\n",
      "Epoch 174 Batch   16/26   train_loss = 1.404\n",
      "Epoch 175 Batch   10/26   train_loss = 1.384\n",
      "Epoch 176 Batch    4/26   train_loss = 1.367\n",
      "Epoch 176 Batch   24/26   train_loss = 1.269\n",
      "Epoch 177 Batch   18/26   train_loss = 1.266\n",
      "Epoch 178 Batch   12/26   train_loss = 1.264\n",
      "Epoch 179 Batch    6/26   train_loss = 1.240\n",
      "Epoch 180 Batch    0/26   train_loss = 1.251\n",
      "Epoch 180 Batch   20/26   train_loss = 1.202\n",
      "Epoch 181 Batch   14/26   train_loss = 1.234\n",
      "Epoch 182 Batch    8/26   train_loss = 1.257\n",
      "Epoch 183 Batch    2/26   train_loss = 1.225\n",
      "Epoch 183 Batch   22/26   train_loss = 1.188\n",
      "Epoch 184 Batch   16/26   train_loss = 1.319\n",
      "Epoch 185 Batch   10/26   train_loss = 1.266\n",
      "Epoch 186 Batch    4/26   train_loss = 1.230\n",
      "Epoch 186 Batch   24/26   train_loss = 1.158\n",
      "Epoch 187 Batch   18/26   train_loss = 1.134\n",
      "Epoch 188 Batch   12/26   train_loss = 1.130\n",
      "Epoch 189 Batch    6/26   train_loss = 1.103\n",
      "Epoch 190 Batch    0/26   train_loss = 1.108\n",
      "Epoch 190 Batch   20/26   train_loss = 1.073\n",
      "Epoch 191 Batch   14/26   train_loss = 1.066\n",
      "Epoch 192 Batch    8/26   train_loss = 1.099\n",
      "Epoch 193 Batch    2/26   train_loss = 1.073\n",
      "Epoch 193 Batch   22/26   train_loss = 1.030\n",
      "Epoch 194 Batch   16/26   train_loss = 1.133\n",
      "Epoch 195 Batch   10/26   train_loss = 1.105\n",
      "Epoch 196 Batch    4/26   train_loss = 1.068\n",
      "Epoch 196 Batch   24/26   train_loss = 1.011\n",
      "Epoch 197 Batch   18/26   train_loss = 1.005\n",
      "Epoch 198 Batch   12/26   train_loss = 1.024\n",
      "Epoch 199 Batch    6/26   train_loss = 0.978\n",
      "Epoch 200 Batch    0/26   train_loss = 1.025\n",
      "Epoch 200 Batch   20/26   train_loss = 0.966\n",
      "Epoch 201 Batch   14/26   train_loss = 0.970\n",
      "Epoch 202 Batch    8/26   train_loss = 0.977\n",
      "Epoch 203 Batch    2/26   train_loss = 0.963\n",
      "Epoch 203 Batch   22/26   train_loss = 0.918\n",
      "Epoch 204 Batch   16/26   train_loss = 1.046\n",
      "Epoch 205 Batch   10/26   train_loss = 1.024\n",
      "Epoch 206 Batch    4/26   train_loss = 0.953\n",
      "Epoch 206 Batch   24/26   train_loss = 0.905\n",
      "Epoch 207 Batch   18/26   train_loss = 0.933\n",
      "Epoch 208 Batch   12/26   train_loss = 0.926\n",
      "Epoch 209 Batch    6/26   train_loss = 0.872\n",
      "Epoch 210 Batch    0/26   train_loss = 0.915\n",
      "Epoch 210 Batch   20/26   train_loss = 0.868\n",
      "Epoch 211 Batch   14/26   train_loss = 0.909\n",
      "Epoch 212 Batch    8/26   train_loss = 0.895\n",
      "Epoch 213 Batch    2/26   train_loss = 0.904\n",
      "Epoch 213 Batch   22/26   train_loss = 0.819\n",
      "Epoch 214 Batch   16/26   train_loss = 0.958\n",
      "Epoch 215 Batch   10/26   train_loss = 0.900\n",
      "Epoch 216 Batch    4/26   train_loss = 0.909\n",
      "Epoch 216 Batch   24/26   train_loss = 0.796\n",
      "Epoch 217 Batch   18/26   train_loss = 0.849\n",
      "Epoch 218 Batch   12/26   train_loss = 0.777\n",
      "Epoch 219 Batch    6/26   train_loss = 0.836\n",
      "Epoch 220 Batch    0/26   train_loss = 0.857\n",
      "Epoch 220 Batch   20/26   train_loss = 0.823\n",
      "Epoch 221 Batch   14/26   train_loss = 0.802\n",
      "Epoch 222 Batch    8/26   train_loss = 0.862\n",
      "Epoch 223 Batch    2/26   train_loss = 0.796\n",
      "Epoch 223 Batch   22/26   train_loss = 0.761\n",
      "Epoch 224 Batch   16/26   train_loss = 0.834\n",
      "Epoch 225 Batch   10/26   train_loss = 0.827\n",
      "Epoch 226 Batch    4/26   train_loss = 0.771\n",
      "Epoch 226 Batch   24/26   train_loss = 0.710\n",
      "Epoch 227 Batch   18/26   train_loss = 0.752\n",
      "Epoch 228 Batch   12/26   train_loss = 0.711\n",
      "Epoch 229 Batch    6/26   train_loss = 0.754\n",
      "Epoch 230 Batch    0/26   train_loss = 0.758\n",
      "Epoch 230 Batch   20/26   train_loss = 0.726\n",
      "Epoch 231 Batch   14/26   train_loss = 0.717\n",
      "Epoch 232 Batch    8/26   train_loss = 0.734\n",
      "Epoch 233 Batch    2/26   train_loss = 0.728\n",
      "Epoch 233 Batch   22/26   train_loss = 0.710\n",
      "Epoch 234 Batch   16/26   train_loss = 0.794\n",
      "Epoch 235 Batch   10/26   train_loss = 0.770\n",
      "Epoch 236 Batch    4/26   train_loss = 0.747\n",
      "Epoch 236 Batch   24/26   train_loss = 0.709\n",
      "Epoch 237 Batch   18/26   train_loss = 0.696\n",
      "Epoch 238 Batch   12/26   train_loss = 0.698\n",
      "Epoch 239 Batch    6/26   train_loss = 0.644\n",
      "Epoch 240 Batch    0/26   train_loss = 0.695\n",
      "Epoch 240 Batch   20/26   train_loss = 0.640\n",
      "Epoch 241 Batch   14/26   train_loss = 0.630\n",
      "Epoch 242 Batch    8/26   train_loss = 0.638\n",
      "Epoch 243 Batch    2/26   train_loss = 0.622\n",
      "Epoch 243 Batch   22/26   train_loss = 0.612\n",
      "Epoch 244 Batch   16/26   train_loss = 0.645\n",
      "Epoch 245 Batch   10/26   train_loss = 0.635\n",
      "Epoch 246 Batch    4/26   train_loss = 0.596\n",
      "Epoch 246 Batch   24/26   train_loss = 0.567\n",
      "Epoch 247 Batch   18/26   train_loss = 0.565\n",
      "Epoch 248 Batch   12/26   train_loss = 0.550\n",
      "Epoch 249 Batch    6/26   train_loss = 0.529\n",
      "Epoch 250 Batch    0/26   train_loss = 0.576\n",
      "Epoch 250 Batch   20/26   train_loss = 0.536\n",
      "Epoch 251 Batch   14/26   train_loss = 0.529\n",
      "Epoch 252 Batch    8/26   train_loss = 0.549\n",
      "Epoch 253 Batch    2/26   train_loss = 0.543\n",
      "Epoch 253 Batch   22/26   train_loss = 0.532\n",
      "Epoch 254 Batch   16/26   train_loss = 0.583\n",
      "Epoch 255 Batch   10/26   train_loss = 0.559\n",
      "Epoch 256 Batch    4/26   train_loss = 0.528\n",
      "Epoch 256 Batch   24/26   train_loss = 0.501\n",
      "Epoch 257 Batch   18/26   train_loss = 0.506\n",
      "Epoch 258 Batch   12/26   train_loss = 0.497\n",
      "Epoch 259 Batch    6/26   train_loss = 0.491\n",
      "Epoch 260 Batch    0/26   train_loss = 0.519\n",
      "Epoch 260 Batch   20/26   train_loss = 0.520\n",
      "Epoch 261 Batch   14/26   train_loss = 0.500\n",
      "Epoch 262 Batch    8/26   train_loss = 0.530\n",
      "Epoch 263 Batch    2/26   train_loss = 0.498\n",
      "Epoch 263 Batch   22/26   train_loss = 0.516\n",
      "Epoch 264 Batch   16/26   train_loss = 0.560\n",
      "Epoch 265 Batch   10/26   train_loss = 0.524\n",
      "Epoch 266 Batch    4/26   train_loss = 0.510\n",
      "Epoch 266 Batch   24/26   train_loss = 0.451\n",
      "Epoch 267 Batch   18/26   train_loss = 0.461\n",
      "Epoch 268 Batch   12/26   train_loss = 0.446\n",
      "Epoch 269 Batch    6/26   train_loss = 0.433\n",
      "Epoch 270 Batch    0/26   train_loss = 0.478\n",
      "Epoch 270 Batch   20/26   train_loss = 0.450\n",
      "Epoch 271 Batch   14/26   train_loss = 0.433\n",
      "Epoch 272 Batch    8/26   train_loss = 0.472\n",
      "Epoch 273 Batch    2/26   train_loss = 0.449\n",
      "Epoch 273 Batch   22/26   train_loss = 0.450\n",
      "Epoch 274 Batch   16/26   train_loss = 0.501\n",
      "Epoch 275 Batch   10/26   train_loss = 0.477\n",
      "Epoch 276 Batch    4/26   train_loss = 0.480\n",
      "Epoch 276 Batch   24/26   train_loss = 0.400\n",
      "Epoch 277 Batch   18/26   train_loss = 0.459\n",
      "Epoch 278 Batch   12/26   train_loss = 0.412\n",
      "Epoch 279 Batch    6/26   train_loss = 0.448\n",
      "Epoch 280 Batch    0/26   train_loss = 0.444\n",
      "Epoch 280 Batch   20/26   train_loss = 0.454\n",
      "Epoch 281 Batch   14/26   train_loss = 0.400\n",
      "Epoch 282 Batch    8/26   train_loss = 0.479\n",
      "Epoch 283 Batch    2/26   train_loss = 0.405\n",
      "Epoch 283 Batch   22/26   train_loss = 0.471\n",
      "Epoch 284 Batch   16/26   train_loss = 0.436\n",
      "Epoch 285 Batch   10/26   train_loss = 0.482\n",
      "Epoch 286 Batch    4/26   train_loss = 0.417\n",
      "Epoch 286 Batch   24/26   train_loss = 0.411\n",
      "Epoch 287 Batch   18/26   train_loss = 0.395\n",
      "Epoch 288 Batch   12/26   train_loss = 0.395\n",
      "Epoch 289 Batch    6/26   train_loss = 0.376\n",
      "Epoch 290 Batch    0/26   train_loss = 0.377\n",
      "Epoch 290 Batch   20/26   train_loss = 0.369\n",
      "Epoch 291 Batch   14/26   train_loss = 0.343\n",
      "Epoch 292 Batch    8/26   train_loss = 0.356\n",
      "Epoch 293 Batch    2/26   train_loss = 0.330\n",
      "Epoch 293 Batch   22/26   train_loss = 0.338\n",
      "Epoch 294 Batch   16/26   train_loss = 0.346\n",
      "Epoch 295 Batch   10/26   train_loss = 0.347\n",
      "Epoch 296 Batch    4/26   train_loss = 0.316\n",
      "Epoch 296 Batch   24/26   train_loss = 0.283\n",
      "Epoch 297 Batch   18/26   train_loss = 0.300\n",
      "Epoch 298 Batch   12/26   train_loss = 0.287\n",
      "Epoch 299 Batch    6/26   train_loss = 0.286\n",
      "Model Trained and Saved\n"
     ]
    }
   ],
   "source": [
    "\"\"\"\n",
    "DON'T MODIFY ANYTHING IN THIS CELL\n",
    "\"\"\"\n",
    "batches = get_batches(int_text, batch_size, seq_length)\n",
    "\n",
    "with tf.Session(graph=train_graph) as sess:\n",
    "    sess.run(tf.global_variables_initializer())\n",
    "\n",
    "    for epoch_i in range(num_epochs):\n",
    "        state = sess.run(initial_state, {input_text: batches[0][0]})\n",
    "\n",
    "        for batch_i, (x, y) in enumerate(batches):\n",
    "            feed = {\n",
    "                input_text: x,\n",
    "                targets: y,\n",
    "                initial_state: state,\n",
    "                lr: learning_rate}\n",
    "            train_loss, state, _ = sess.run([cost, final_state, train_op], feed)\n",
    "\n",
    "            # Show every <show_every_n_batches> batches\n",
    "            if (epoch_i * len(batches) + batch_i) % show_every_n_batches == 0:\n",
    "                print('Epoch {:>3} Batch {:>4}/{}   train_loss = {:.3f}'.format(\n",
    "                    epoch_i,\n",
    "                    batch_i,\n",
    "                    len(batches),\n",
    "                    train_loss))\n",
    "\n",
    "    # Save Model\n",
    "    saver = tf.train.Saver()\n",
    "    saver.save(sess, save_dir)\n",
    "    print('Model Trained and Saved')"
   ]
  },
  {
   "cell_type": "markdown",
   "metadata": {
    "deletable": true,
    "editable": true
   },
   "source": [
    "## Save Parameters\n",
    "Save `seq_length` and `save_dir` for generating a new TV script."
   ]
  },
  {
   "cell_type": "code",
   "execution_count": 17,
   "metadata": {
    "collapsed": false,
    "deletable": true,
    "editable": true
   },
   "outputs": [],
   "source": [
    "\"\"\"\n",
    "DON'T MODIFY ANYTHING IN THIS CELL\n",
    "\"\"\"\n",
    "# Save parameters for checkpoint\n",
    "helper.save_params((seq_length, save_dir))"
   ]
  },
  {
   "cell_type": "markdown",
   "metadata": {
    "deletable": true,
    "editable": true
   },
   "source": [
    "# Checkpoint"
   ]
  },
  {
   "cell_type": "code",
   "execution_count": 18,
   "metadata": {
    "collapsed": false,
    "deletable": true,
    "editable": true
   },
   "outputs": [],
   "source": [
    "\"\"\"\n",
    "DON'T MODIFY ANYTHING IN THIS CELL\n",
    "\"\"\"\n",
    "import tensorflow as tf\n",
    "import numpy as np\n",
    "import helper\n",
    "import problem_unittests as tests\n",
    "\n",
    "_, vocab_to_int, int_to_vocab, token_dict = helper.load_preprocess()\n",
    "seq_length, load_dir = helper.load_params()"
   ]
  },
  {
   "cell_type": "markdown",
   "metadata": {
    "deletable": true,
    "editable": true
   },
   "source": [
    "## Implement Generate Functions\n",
    "### Get Tensors\n",
    "Get tensors from `loaded_graph` using the function [`get_tensor_by_name()`](https://www.tensorflow.org/api_docs/python/tf/Graph#get_tensor_by_name).  Get the tensors using the following names:\n",
    "- \"input:0\"\n",
    "- \"initial_state:0\"\n",
    "- \"final_state:0\"\n",
    "- \"probs:0\"\n",
    "\n",
    "Return the tensors in the following tuple `(InputTensor, InitialStateTensor, FinalStateTensor, ProbsTensor)` "
   ]
  },
  {
   "cell_type": "code",
   "execution_count": 19,
   "metadata": {
    "collapsed": false,
    "deletable": true,
    "editable": true
   },
   "outputs": [
    {
     "name": "stdout",
     "output_type": "stream",
     "text": [
      "Tests Passed\n"
     ]
    }
   ],
   "source": [
    "def get_tensors(loaded_graph):\n",
    "    \"\"\"\n",
    "    Get input, initial state, final state, and probabilities tensor from <loaded_graph>\n",
    "    :param loaded_graph: TensorFlow graph loaded from file\n",
    "    :return: Tuple (InputTensor, InitialStateTensor, FinalStateTensor, ProbsTensor)\n",
    "    \"\"\"\n",
    "    inputs = loaded_graph.get_tensor_by_name(\"input:0\")\n",
    "    initial_state = loaded_graph.get_tensor_by_name(\"initial_state:0\")\n",
    "    final_state = loaded_graph.get_tensor_by_name(\"final_state:0\")\n",
    "    probs = loaded_graph.get_tensor_by_name(\"probs:0\")\n",
    "    return (inputs, initial_state, final_state, probs)\n",
    "\n",
    "\n",
    "\"\"\"\n",
    "DON'T MODIFY ANYTHING IN THIS CELL THAT IS BELOW THIS LINE\n",
    "\"\"\"\n",
    "tests.test_get_tensors(get_tensors)"
   ]
  },
  {
   "cell_type": "markdown",
   "metadata": {
    "deletable": true,
    "editable": true
   },
   "source": [
    "### Choose Word\n",
    "Implement the `pick_word()` function to select the next word using `probabilities`."
   ]
  },
  {
   "cell_type": "code",
   "execution_count": 20,
   "metadata": {
    "collapsed": false,
    "deletable": true,
    "editable": true
   },
   "outputs": [
    {
     "name": "stdout",
     "output_type": "stream",
     "text": [
      "Tests Passed\n"
     ]
    }
   ],
   "source": [
    "def pick_word(probabilities, int_to_vocab):\n",
    "    \"\"\"\n",
    "    Pick the next word in the generated text\n",
    "    :param probabilities: Probabilites of the next word\n",
    "    :param int_to_vocab: Dictionary of word ids as the keys and words as the values\n",
    "    :return: String of the predicted word\n",
    "    \"\"\"\n",
    "    return int_to_vocab[np.argmax(probabilities)]\n",
    "\n",
    "\n",
    "\"\"\"\n",
    "DON'T MODIFY ANYTHING IN THIS CELL THAT IS BELOW THIS LINE\n",
    "\"\"\"\n",
    "tests.test_pick_word(pick_word)"
   ]
  },
  {
   "cell_type": "markdown",
   "metadata": {
    "deletable": true,
    "editable": true
   },
   "source": [
    "## Generate TV Script\n",
    "This will generate the TV script for you.  Set `gen_length` to the length of TV script you want to generate."
   ]
  },
  {
   "cell_type": "code",
   "execution_count": 21,
   "metadata": {
    "collapsed": false,
    "deletable": true,
    "editable": true
   },
   "outputs": [
    {
     "name": "stdout",
     "output_type": "stream",
     "text": [
      "moe_szyslak:(into phone) gotcha ya down for forty bucks. good luck your eminence.\n",
      "moe_szyslak: sorry, homer. just a beer, pal.\n",
      "homer_simpson:(excited) yeah, get it all the smell on my back.\n",
      "marge_simpson: a hundred and water is as a sign.\n",
      "moe_szyslak: oh, right. i ever think i'll show you your name, homer.\n",
      "homer_simpson:(moans)\" thanks on, and now what are you little good at you can the guess.\n",
      "moe_szyslak: sure.\n",
      "moe_szyslak: i'm not an awful star he's a button-pusher could is a beer!\n",
      "lenny_leonard: what do i think i am not to say the most beloved thing it is.\n",
      "barney_gumble: i don't know...\n",
      "homer_simpson:(toasting) to be all right now...(points to door) get out.\n",
      "barney_gumble: hey moe, that's all right.\n",
      "moe_szyslak:(pleading) ah, come on, buy.\" three dog.\n",
      "homer_simpson: shut up in the other one of the world could be drunk one than you like to get 'em power of my two.\n",
      "agent_johnson: oh, it's time.\n",
      "homer_simpson: i was just a favor barney.\n",
      "lenny_leonard: wow! i ever want to stop up.\n",
      "moe_szyslak:(proudly) hey guys, i'd buy a beer to moe.\n",
      "homer_simpson:(looking around) yeah.\n",
      "moe_szyslak: oh, sure.\n",
      "moe_szyslak:(excited) then you say, or it?\n",
      "moe_szyslak: yeah, you should got no tipsy to help.\n",
      "homer_simpson: i got it.\n",
      "moe_szyslak: yeah\n"
     ]
    }
   ],
   "source": [
    "gen_length = 300\n",
    "# homer_simpson, moe_szyslak, or Barney_Gumble\n",
    "prime_word = 'moe_szyslak'\n",
    "\n",
    "\"\"\"\n",
    "DON'T MODIFY ANYTHING IN THIS CELL THAT IS BELOW THIS LINE\n",
    "\"\"\"\n",
    "loaded_graph = tf.Graph()\n",
    "with tf.Session(graph=loaded_graph) as sess:\n",
    "    # Load saved model\n",
    "    loader = tf.train.import_meta_graph(load_dir + '.meta')\n",
    "    loader.restore(sess, load_dir)\n",
    "\n",
    "    # Get Tensors from loaded model\n",
    "    input_text, initial_state, final_state, probs = get_tensors(loaded_graph)\n",
    "\n",
    "    # Sentences generation setup\n",
    "    gen_sentences = [prime_word + ':']\n",
    "    prev_state = sess.run(initial_state, {input_text: np.array([[1]])})\n",
    "\n",
    "    # Generate sentences\n",
    "    for n in range(gen_length):\n",
    "        # Dynamic Input\n",
    "        dyn_input = [[vocab_to_int[word] for word in gen_sentences[-seq_length:]]]\n",
    "        dyn_seq_length = len(dyn_input[0])\n",
    "\n",
    "        # Get Prediction\n",
    "        probabilities, prev_state = sess.run(\n",
    "            [probs, final_state],\n",
    "            {input_text: dyn_input, initial_state: prev_state})\n",
    "        \n",
    "        pred_word = pick_word(probabilities[dyn_seq_length-1], int_to_vocab)\n",
    "\n",
    "        gen_sentences.append(pred_word)\n",
    "    \n",
    "    # Remove tokens\n",
    "    tv_script = ' '.join(gen_sentences)\n",
    "    for key, token in token_dict.items():\n",
    "        ending = ' ' if key in ['\\n', '(', '\"'] else ''\n",
    "        tv_script = tv_script.replace(' ' + token.lower(), key)\n",
    "    tv_script = tv_script.replace('\\n ', '\\n')\n",
    "    tv_script = tv_script.replace('( ', '(')\n",
    "        \n",
    "    print(tv_script)"
   ]
  },
  {
   "cell_type": "markdown",
   "metadata": {
    "deletable": true,
    "editable": true
   },
   "source": [
    "# The TV Script is Nonsensical\n",
    "It's ok if the TV script doesn't make any sense.  We trained on less than a megabyte of text.  In order to get good results, you'll have to use a smaller vocabulary or get more data.  Luckly there's more data!  As we mentioned in the begging of this project, this is a subset of [another dataset](https://www.kaggle.com/wcukierski/the-simpsons-by-the-data).  We didn't have you train on all the data, because that would take too long.  However, you are free to train your neural network on all the data.  After you complete the project, of course.\n",
    "# Submitting This Project\n",
    "When submitting this project, make sure to run all the cells before saving the notebook. Save the notebook file as \"dlnd_tv_script_generation.ipynb\" and save it as a HTML file under \"File\" -> \"Download as\". Include the \"helper.py\" and \"problem_unittests.py\" files in your submission."
   ]
  }
 ],
 "metadata": {
  "kernelspec": {
   "display_name": "Python 3",
   "language": "python",
   "name": "python3"
  },
  "language_info": {
   "codemirror_mode": {
    "name": "ipython",
    "version": 3
   },
   "file_extension": ".py",
   "mimetype": "text/x-python",
   "name": "python",
   "nbconvert_exporter": "python",
   "pygments_lexer": "ipython3",
   "version": "3.6.0"
  },
  "widgets": {
   "state": {},
   "version": "1.1.2"
  }
 },
 "nbformat": 4,
 "nbformat_minor": 0
}
